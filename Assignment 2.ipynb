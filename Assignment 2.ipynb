{
 "cells": [
  {
   "cell_type": "code",
   "execution_count": 18,
   "metadata": {},
   "outputs": [
    {
     "name": "stdout",
     "output_type": "stream",
     "text": [
      "Enter your Maths score:99\n",
      "Enter your English score:78\n",
      "Enter your Physics score:88\n",
      "Enter your Chemistry score:66\n",
      "Enter your Urdu score:70\n",
      "Your Total Marks:\n",
      "401\n",
      "Your Percentage:\n",
      "80.2\n",
      "Your Grade:A+\n"
     ]
    }
   ],
   "source": [
    "m=int(input(\"Enter your Maths score:\"))\n",
    "e=int(input(\"Enter your English score:\"))\n",
    "p=int(input(\"Enter your Physics score:\"))\n",
    "c=int(input(\"Enter your Chemistry score:\"))\n",
    "u=int(input(\"Enter your Urdu score:\"))\n",
    "your_total_marks=m+e+p+c+u\n",
    "print(\"Your Total Marks:\")\n",
    "print(your_total_marks)\n",
    "total_marks=500\n",
    "per= (your_total_marks/total_marks)*100\n",
    "print(\"Your Percentage:\")\n",
    "print(per)\n",
    "if per>= 80 and per<=100:\n",
    "    print(\"Your Grade:A+\");\n",
    "elif per>=70 and per<80:\n",
    "    print(\"Your Grade:B+\");\n",
    "elif per>=60 and per<70:\n",
    "    print(\"Your Grade:B\");\n",
    "elif per>=0 and per<60:\n",
    "    print(\"You are Failed\");\n",
    "else:\n",
    "    print(\"You have given inappropriate percentage\");"
   ]
  },
  {
   "cell_type": "markdown",
   "metadata": {},
   "source": []
  },
  {
   "cell_type": "code",
   "execution_count": 24,
   "metadata": {},
   "outputs": [
    {
     "name": "stdout",
     "output_type": "stream",
     "text": [
      "Enter a number: 7\n",
      "This is an odd number.\n"
     ]
    }
   ],
   "source": [
    "num = int(input(\"Enter a number: \"))\n",
    "mod = num % 2\n",
    "if mod > 0:\n",
    "    print(\"This is an odd number.\")\n",
    "else:\n",
    "    print(\"This is an even number.\")"
   ]
  },
  {
   "cell_type": "code",
   "execution_count": 27,
   "metadata": {},
   "outputs": [
    {
     "name": "stdout",
     "output_type": "stream",
     "text": [
      "5\n"
     ]
    }
   ],
   "source": [
    "x=[2,3,4,5,6]\n",
    "print(len(x))"
   ]
  },
  {
   "cell_type": "code",
   "execution_count": 2,
   "metadata": {},
   "outputs": [
    {
     "name": "stdout",
     "output_type": "stream",
     "text": [
      "30\n"
     ]
    }
   ],
   "source": [
    "x=[2,4,6,8,10]\n",
    "Sum=sum(x)\n",
    "print(Sum)"
   ]
  },
  {
   "cell_type": "code",
   "execution_count": 3,
   "metadata": {},
   "outputs": [
    {
     "name": "stdout",
     "output_type": "stream",
     "text": [
      "Largest element is: 99\n"
     ]
    }
   ],
   "source": [
    "list1 = [10, 20, 4, 45, 99]  \n",
    "list1.sort() \n",
    "print(\"Largest element is:\", list1[-1]) "
   ]
  },
  {
   "cell_type": "code",
   "execution_count": 6,
   "metadata": {},
   "outputs": [
    {
     "name": "stdout",
     "output_type": "stream",
     "text": [
      "1\n",
      "1\n",
      "2\n",
      "3\n"
     ]
    }
   ],
   "source": [
    "a = [1, 1, 2, 3, 5, 8, 13, 21, 34, 55, 89]\n",
    "for i in a:\n",
    " if i < 5:\n",
    "    print(i)"
   ]
  },
  {
   "cell_type": "code",
   "execution_count": null,
   "metadata": {},
   "outputs": [],
   "source": []
  }
 ],
 "metadata": {
  "kernelspec": {
   "display_name": "Python 3",
   "language": "python",
   "name": "python3"
  },
  "language_info": {
   "codemirror_mode": {
    "name": "ipython",
    "version": 3
   },
   "file_extension": ".py",
   "mimetype": "text/x-python",
   "name": "python",
   "nbconvert_exporter": "python",
   "pygments_lexer": "ipython3",
   "version": "3.7.4"
  }
 },
 "nbformat": 4,
 "nbformat_minor": 2
}
